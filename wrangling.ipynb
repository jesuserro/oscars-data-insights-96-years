{
 "cells": [
  {
   "cell_type": "code",
   "execution_count": 1,
   "metadata": {},
   "outputs": [],
   "source": [
    "import pandas as pd\n",
    "import numpy as np"
   ]
  },
  {
   "cell_type": "code",
   "execution_count": 2,
   "metadata": {},
   "outputs": [],
   "source": [
    "oscars_main = pd.read_csv('data/processed/oscars_main.csv')\n",
    "df_caracteristicas_actores = pd.read_csv('data/processed/df_caracteristicas_de_los_actores.csv')"
   ]
  },
  {
   "cell_type": "code",
   "execution_count": 3,
   "metadata": {},
   "outputs": [],
   "source": [
    "df_caracteristicas_actores.rename(columns = {'Nombre': 'name'}, inplace=True)\n",
    "df_caracteristicas_actores.rename(columns = {'Pais': 'nacionalidad'}, inplace=True)\n",
    "\n",
    "\n",
    "df_caracteristicas_actores.drop(columns = ['Año Ceremonia'], inplace=True)\n",
    "\n",
    "df_caracteristicas_actores.columns = df_caracteristicas_actores.columns.str.lower().str.replace(' ', '_').str.strip()\n"
   ]
  },
  {
   "cell_type": "code",
   "execution_count": 4,
   "metadata": {},
   "outputs": [
    {
     "data": {
      "text/html": [
       "<div>\n",
       "<style scoped>\n",
       "    .dataframe tbody tr th:only-of-type {\n",
       "        vertical-align: middle;\n",
       "    }\n",
       "\n",
       "    .dataframe tbody tr th {\n",
       "        vertical-align: top;\n",
       "    }\n",
       "\n",
       "    .dataframe thead th {\n",
       "        text-align: right;\n",
       "    }\n",
       "</style>\n",
       "<table border=\"1\" class=\"dataframe\">\n",
       "  <thead>\n",
       "    <tr style=\"text-align: right;\">\n",
       "      <th></th>\n",
       "      <th>year_ceremony</th>\n",
       "      <th>film</th>\n",
       "      <th>winner</th>\n",
       "      <th>name</th>\n",
       "      <th>edad</th>\n",
       "      <th>raza</th>\n",
       "      <th>nacionalidad</th>\n",
       "    </tr>\n",
       "  </thead>\n",
       "  <tbody>\n",
       "    <tr>\n",
       "      <th>0</th>\n",
       "      <td>1928</td>\n",
       "      <td>The Noose</td>\n",
       "      <td>False</td>\n",
       "      <td>Richard Barthelmess</td>\n",
       "      <td>NaN</td>\n",
       "      <td>NaN</td>\n",
       "      <td>NaN</td>\n",
       "    </tr>\n",
       "    <tr>\n",
       "      <th>1</th>\n",
       "      <td>1928</td>\n",
       "      <td>The Last Command</td>\n",
       "      <td>True</td>\n",
       "      <td>Emil Jannings</td>\n",
       "      <td>45.0</td>\n",
       "      <td>Blanca</td>\n",
       "      <td>Alemania</td>\n",
       "    </tr>\n",
       "    <tr>\n",
       "      <th>2</th>\n",
       "      <td>1929</td>\n",
       "      <td>Thunderbolt</td>\n",
       "      <td>False</td>\n",
       "      <td>George Bancroft</td>\n",
       "      <td>NaN</td>\n",
       "      <td>NaN</td>\n",
       "      <td>NaN</td>\n",
       "    </tr>\n",
       "    <tr>\n",
       "      <th>3</th>\n",
       "      <td>1929</td>\n",
       "      <td>In Old Arizona</td>\n",
       "      <td>True</td>\n",
       "      <td>Warner Baxter</td>\n",
       "      <td>40.0</td>\n",
       "      <td>Blanca</td>\n",
       "      <td>Estados Unidos</td>\n",
       "    </tr>\n",
       "    <tr>\n",
       "      <th>4</th>\n",
       "      <td>1929</td>\n",
       "      <td>Alibi</td>\n",
       "      <td>False</td>\n",
       "      <td>Chester Morris</td>\n",
       "      <td>NaN</td>\n",
       "      <td>NaN</td>\n",
       "      <td>NaN</td>\n",
       "    </tr>\n",
       "  </tbody>\n",
       "</table>\n",
       "</div>"
      ],
      "text/plain": [
       "   year_ceremony              film  winner                 name  edad    raza  \\\n",
       "0           1928         The Noose   False  Richard Barthelmess   NaN     NaN   \n",
       "1           1928  The Last Command    True        Emil Jannings  45.0  Blanca   \n",
       "2           1929       Thunderbolt   False      George Bancroft   NaN     NaN   \n",
       "3           1929    In Old Arizona    True        Warner Baxter  40.0  Blanca   \n",
       "4           1929             Alibi   False       Chester Morris   NaN     NaN   \n",
       "\n",
       "     nacionalidad  \n",
       "0             NaN  \n",
       "1        Alemania  \n",
       "2             NaN  \n",
       "3  Estados Unidos  \n",
       "4             NaN  "
      ]
     },
     "execution_count": 4,
     "metadata": {},
     "output_type": "execute_result"
    }
   ],
   "source": [
    "#df_caracteristicas_actores.head()\n",
    "oscars_main.drop(columns = ['ceremony'], inplace=True)\n",
    "\n",
    "df_final = pd.merge(oscars_main, df_caracteristicas_actores, on='name', how='left')\n",
    "\n",
    "df_final.to_csv('data/processed/oscars_main_2_con_caracteristicas_actores.csv', index=False)\n",
    "\n",
    "df_final.head()"
   ]
  }
 ],
 "metadata": {
  "kernelspec": {
   "display_name": "base",
   "language": "python",
   "name": "python3"
  },
  "language_info": {
   "codemirror_mode": {
    "name": "ipython",
    "version": 3
   },
   "file_extension": ".py",
   "mimetype": "text/x-python",
   "name": "python",
   "nbconvert_exporter": "python",
   "pygments_lexer": "ipython3",
   "version": "3.12.7"
  }
 },
 "nbformat": 4,
 "nbformat_minor": 2
}
