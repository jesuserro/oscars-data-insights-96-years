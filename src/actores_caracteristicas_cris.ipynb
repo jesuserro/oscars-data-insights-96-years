{
 "cells": [
  {
   "cell_type": "markdown",
   "metadata": {},
   "source": [
    "## Objetivo\n",
    "\n",
    "Este proyecto está orientado a la creación de la guía del actor galardonado.\n",
    "\n",
    "Nos basaremos en una concatenación de datos de distinto tipo (csv, dataframe propio y web scraping) para analizar los margenes a los que se puede asociar la cumbre de un actor, en este caso como meta con el premio oscar.\n",
    "\n",
    "Buscaremos en ellos, los porcentajes que tienen que ver con la nacionalidad, la raza y la edad. \n",
    "\n",
    "Asociados con el director de las películas también más galardonadas.\n",
    "\n",
    "Hablaremos, de si es influyente o no el presupuesto de la película y el porcentaje de taquilla.\n",
    "\n",
    "Con todas estas conclusiones podemos ofertar una guia para futuros actores en los que poder brindarles unas directrices para optar al galardon, en base al analisis desde su priemr año de gala, 1928 y el último en 2024."
   ]
  },
  {
   "cell_type": "code",
   "execution_count": 2,
   "metadata": {},
   "outputs": [],
   "source": [
    "#En Primer lugar importamos librerias"
   ]
  },
  {
   "cell_type": "code",
   "execution_count": 2,
   "metadata": {},
   "outputs": [],
   "source": [
    "import pandas as pd\n",
    "import numpy as np\n"
   ]
  },
  {
   "cell_type": "code",
   "execution_count": 4,
   "metadata": {},
   "outputs": [],
   "source": [
    "#Cargamos el primer csv, con el que miraremos la información para empezar a orientarnos."
   ]
  },
  {
   "cell_type": "code",
   "execution_count": 4,
   "metadata": {},
   "outputs": [],
   "source": [
    "oscar_df=pd.read_csv(\"data/the_oscar_award 1927 -2023.csv\")\n"
   ]
  },
  {
   "cell_type": "code",
   "execution_count": 5,
   "metadata": {},
   "outputs": [
    {
     "data": {
      "text/plain": [
       "(10759, 7)"
      ]
     },
     "execution_count": 5,
     "metadata": {},
     "output_type": "execute_result"
    }
   ],
   "source": [
    "oscar_df.shape\n"
   ]
  },
  {
   "cell_type": "code",
   "execution_count": 7,
   "metadata": {},
   "outputs": [
    {
     "data": {
      "text/html": [
       "<div>\n",
       "<style scoped>\n",
       "    .dataframe tbody tr th:only-of-type {\n",
       "        vertical-align: middle;\n",
       "    }\n",
       "\n",
       "    .dataframe tbody tr th {\n",
       "        vertical-align: top;\n",
       "    }\n",
       "\n",
       "    .dataframe thead th {\n",
       "        text-align: right;\n",
       "    }\n",
       "</style>\n",
       "<table border=\"1\" class=\"dataframe\">\n",
       "  <thead>\n",
       "    <tr style=\"text-align: right;\">\n",
       "      <th></th>\n",
       "      <th>count</th>\n",
       "      <th>mean</th>\n",
       "      <th>std</th>\n",
       "      <th>min</th>\n",
       "      <th>25%</th>\n",
       "      <th>50%</th>\n",
       "      <th>75%</th>\n",
       "      <th>max</th>\n",
       "    </tr>\n",
       "  </thead>\n",
       "  <tbody>\n",
       "    <tr>\n",
       "      <th>year_film</th>\n",
       "      <td>10759.0</td>\n",
       "      <td>1976.048610</td>\n",
       "      <td>27.041631</td>\n",
       "      <td>1927.0</td>\n",
       "      <td>1952.0</td>\n",
       "      <td>1975.0</td>\n",
       "      <td>2000.0</td>\n",
       "      <td>2022.0</td>\n",
       "    </tr>\n",
       "    <tr>\n",
       "      <th>year_ceremony</th>\n",
       "      <td>10759.0</td>\n",
       "      <td>1977.048610</td>\n",
       "      <td>27.041631</td>\n",
       "      <td>1928.0</td>\n",
       "      <td>1953.0</td>\n",
       "      <td>1976.0</td>\n",
       "      <td>2001.0</td>\n",
       "      <td>2023.0</td>\n",
       "    </tr>\n",
       "    <tr>\n",
       "      <th>ceremony</th>\n",
       "      <td>10759.0</td>\n",
       "      <td>49.073334</td>\n",
       "      <td>26.999754</td>\n",
       "      <td>1.0</td>\n",
       "      <td>25.0</td>\n",
       "      <td>48.0</td>\n",
       "      <td>73.0</td>\n",
       "      <td>95.0</td>\n",
       "    </tr>\n",
       "  </tbody>\n",
       "</table>\n",
       "</div>"
      ],
      "text/plain": [
       "                 count         mean        std     min     25%     50%  \\\n",
       "year_film      10759.0  1976.048610  27.041631  1927.0  1952.0  1975.0   \n",
       "year_ceremony  10759.0  1977.048610  27.041631  1928.0  1953.0  1976.0   \n",
       "ceremony       10759.0    49.073334  26.999754     1.0    25.0    48.0   \n",
       "\n",
       "                  75%     max  \n",
       "year_film      2000.0  2022.0  \n",
       "year_ceremony  2001.0  2023.0  \n",
       "ceremony         73.0    95.0  "
      ]
     },
     "execution_count": 7,
     "metadata": {},
     "output_type": "execute_result"
    }
   ],
   "source": [
    "oscar_df.describe().T\n"
   ]
  },
  {
   "cell_type": "code",
   "execution_count": 6,
   "metadata": {},
   "outputs": [
    {
     "data": {
      "text/html": [
       "<div>\n",
       "<style scoped>\n",
       "    .dataframe tbody tr th:only-of-type {\n",
       "        vertical-align: middle;\n",
       "    }\n",
       "\n",
       "    .dataframe tbody tr th {\n",
       "        vertical-align: top;\n",
       "    }\n",
       "\n",
       "    .dataframe thead th {\n",
       "        text-align: right;\n",
       "    }\n",
       "</style>\n",
       "<table border=\"1\" class=\"dataframe\">\n",
       "  <thead>\n",
       "    <tr style=\"text-align: right;\">\n",
       "      <th></th>\n",
       "      <th>count</th>\n",
       "      <th>unique</th>\n",
       "      <th>top</th>\n",
       "      <th>freq</th>\n",
       "    </tr>\n",
       "  </thead>\n",
       "  <tbody>\n",
       "    <tr>\n",
       "      <th>category</th>\n",
       "      <td>10759</td>\n",
       "      <td>134</td>\n",
       "      <td>DIRECTING</td>\n",
       "      <td>459</td>\n",
       "    </tr>\n",
       "    <tr>\n",
       "      <th>name</th>\n",
       "      <td>10756</td>\n",
       "      <td>6947</td>\n",
       "      <td>Metro-Goldwyn-Mayer</td>\n",
       "      <td>64</td>\n",
       "    </tr>\n",
       "    <tr>\n",
       "      <th>film</th>\n",
       "      <td>10449</td>\n",
       "      <td>4990</td>\n",
       "      <td>A Star Is Born</td>\n",
       "      <td>25</td>\n",
       "    </tr>\n",
       "  </tbody>\n",
       "</table>\n",
       "</div>"
      ],
      "text/plain": [
       "          count unique                  top freq\n",
       "category  10759    134            DIRECTING  459\n",
       "name      10756   6947  Metro-Goldwyn-Mayer   64\n",
       "film      10449   4990       A Star Is Born   25"
      ]
     },
     "execution_count": 6,
     "metadata": {},
     "output_type": "execute_result"
    }
   ],
   "source": [
    "oscar_df.describe(include=\"object\").T"
   ]
  },
  {
   "cell_type": "code",
   "execution_count": 9,
   "metadata": {},
   "outputs": [],
   "source": [
    "#Vamos a crear un nuevo df con las caracteristicas que hemos importado, del cs con otras como la raza, edad y nacionalidad."
   ]
  },
  {
   "cell_type": "code",
   "execution_count": 2,
   "metadata": {},
   "outputs": [],
   "source": [
    "import pandas as pd\n",
    "import numpy as np\n",
    "\n",
    "# Definir los datos en un diccionario\n",
    "data = { 'Año Ceremonia' : [1928,1929,1930,1931,1932,1933,1934,1935,1936,1937,1938,1939,1940,1941,1942,1943,1944,1945,1946,1947,1958,1949,1950,1951,1952,1952,1953,1954,1955,1956,1957,1958,1959,1960,1961,1962,1963,1963,1965,1966,1967,1968,1969,1070,1071,1972,1973,1974,1975,1976,1977,1978,1979,1980,1981,1982,1983,1984,1985,1986,1987,1988,1989,1990,1991,1992,1993,1994,1995,1996,1997,1998,1999,2000,201,2002,2003,2004,2005,2006,2007,2008,2009,2010,2011,2012,2013,2014,2015,2016,2017,2018,2019,2020,2021,2022,2023],\n",
    "    'Nombre': [\"Emil Jannings\", \"Warner Baxter\", \"Lionel Barrymore\", \"Wallace Beery\", \"Fredric March\", \"Charles Laughton\", \"Clark Gable\", \"Victor McLaglen\", \"Paul Muni\", \"Spencer Tracy\", \"Spencer Tracy\", \"Robert Donat\", \"James Stewart\", \"Gary Cooper\", \"James Cagney\", \"Paul Lukas\", \"Bing Crosby\", \"Ray Milland\", \"Fredric March\", \"Ronald Colman\", \"Laurence Olivier\", \"Broderick Crawford\", \"José Ferrer\", \"Humphrey Bogart\", \"Gary Cooper\", \"William Holden\", \"Marlon Brando\", \"Ernest Borgnine\", \"Yul Brynner\", \"Alec Guinness\", \"David Niven\", \"Charlton Heston\", \"Burt Lancaster\", \"Maximilian Schell\", \"Gregory Peck\", \"Sidney Poitier\", \"Rex Harrison\", \"Lee Marvin\", \"Paul Scofield\", \"Rod Steiger\", \"Cliff Robertson\", \"John Wayne\", \"George C. Scott\", \"Gene Hackman\", \"Marlon Brando\", \"Jack Lemmon\", \"Art Carney\", \"Jack Nicholson\", \"Peter Finch\", \"Richard Dreyfuss\", \"Jon Voight\", \"Dustin Hoffman\", \"Robert De Niro\", \"Henry Fonda\", \"Ben Kingsley\", \"Robert Duvall\", \"F. Murray Abraham\", \"William Hurt\", \"Paul Newman\", \"Michael Douglas\", \"Dustin Hoffman\", \"Daniel Day-Lewis\", \"Jeremy Irons\", \"Anthony Hopkins\", \"Al Pacino\", \"Tom Hanks\", \"Tom Hanks\", \"Nicolas Cage\", \"Geoffrey Rush\", \"Jack Nicholson\", \"Roberto Benigni\", \"Kevin Spacey\", \"Russell Crowe\", \"Denzel Washington\", \"Adrien Brody\", \"Sean Penn\", \"Jamie Foxx\", \"Philip Seymour Hoffman\", \"Forest Whitaker\", \"Daniel Day-Lewis\", \"Sean Penn\", \"Jeff Bridges\", \"Colin Firth\", \"Jean Dujardin\", \"Daniel Day-Lewis\", \"Matthew McConaughey\", \"Eddie Redmayne\", \"Leonardo DiCaprio\", \"Casey Affleck\", \"Gary Oldman\", \"Rami Malek\", \"Joaquin Phoenix\", \"Anthony Hopkins\", \"Will Smith\", \"Brendan Fraser\", \"Colin Farrell\", \"Cillian Murphy\"],\n",
    "    'Edad': [\"45\", \"40\", \"53\", \"51\", \"37\", \"34\", \"34\", \"49\", \"42\", \"36\", \"37\", \"33\", \"32\", \"41\", \"42\", \"50\", \"41\", \"38\", \"45\", \"52\", \"41\", \"44\", \"41\", \"54\", \"53\", \"35\", \"30\", \"42\", \"39\", \"53\", \"49\", \"36\", \"46\", \"41\", \"46\", \"37\", \"57\", \"49\", \"46\", \"45\", \"41\", \"62\", \"43\", \"41\", \"48\", \"48\", \"55\", \"38\", \"59\", \"41\", \"39\", \"37\", \"36\", \"76\", \"45\", \"47\", \"46\", \"45\", \"35\", \"61\", \"43\", \"51\", \"48\", \"45\", \"47\", \"55\", \"63\", \"39\", \"41\", \"38\", \"37\", \"44\", \"41\", \"30\", \"43\", \"37\", \"46\", \"37\", \"45\", \"47\", \"39\", \"41\", \"36\", \"62\", \"50\", \"43\", \"55\", \"44\", \"41\", \"33\", \"41\", \"44\", \"62\", \"45\", \"41\", \"46\", \"37\"],\n",
    "    'Raza': [\"Blanca\", \"Blanca\", \"Blanca\", \"Blanca\", \"Blanca\", \"Blanca\", \"Blanca\", \"Blanca\", \"Blanca\", \"Blanca\", \"Blanca\", \"Blanca\", \"Blanca\", \"Blanca\", \"Blanca\", \"Blanca\", \"Blanca\", \"Blanca\", \"Blanca\", \"Blanca\", \"Hispano\", \"Blanca\", \"Blanca\", \"Blanca\", \"Blanca\", \"Blanca\", \"Blanca\", \"Blanca\", \"Blanca\", \"Blanca\", \"Blanca\", \"Blanca\", \"Blanca\", \"Afroamericana\", \"Blanca\", \"Blanca\", \"Blanca\", \"Blanca\", \"Blanca\", \"Blanca\", \"Blanca\", \"Blanca\", \"Blanca\", \"Blanca\", \"Blanca\", \"Blanca\", \"Blanca\", \"Blanca\", \"Blanca\", \"Blanca\", \"Blanca\", \"Blanca\", \"Blanca\", \"Blanca\", \"Blanca\", \"Blanca\", \"Blanca\", \"Blanca\", \"Blanca\", \"Blanca\", \"Blanca\", \"Blanca\", \"Blanca\", \"Blanca\", \"Afroamericana\", \"Blanca\", \"Blanca\", \"Afroamericana\", \"Blanca\", \"Blanca\", \"Blanca\", \"Blanca\", \"Blanca\", \"Blanca\", \"Blanca\", \"Blanca\", \"Blanca\", \"Blanca\", \"Blanca\", \"Blanca\", \"Blanca\", \"Blanca\", \"Blanca\", \"Blanca\", \"Afroamericana\", \"Blanca\", \"Blanca\", \"Blanca\", \"Blanca\", \"Blanca\", \"Afroamericana\", \"Blanca\", \"Blanca\", \"Blanca\"],\n",
    "    'Pais': [\"Alemania\", \"Estados Unidos\", \"Estados Unidos\", \"Estados Unidos\", \"Estados Unidos\", \"Reino Unido\", \"Estados Unidos\", \"Reino Unido\", \"Estados Unidos\", \"Estados Unidos\", \"Estados Unidos\", \"Reino Unido\", \"Estados Unidos\", \"Estados Unidos\", \"Hungría\", \"Estados Unidos\", \"Reino Unido\", \"Estados Unidos\", \"Reino Unido\", \"Estados Unidos\", \"Puerto Rico\", \"Estados Unidos\", \"Estados Unidos\", \"Estados Unidos\", \"Estados Unidos\", \"Estados Unidos\", \"Rusia\", \"Reino Unido\", \"Reino Unido\", \"Estados Unidos\", \"Estados Unidos\", \"Austria\", \"Estados Unidos\", \"Estados Unidos\", \"Estados Unidos\", \"Reino Unido\", \"Estados Unidos\", \"Estados Unidos\", \"Estados Unidos\", \"Estados Unidos\", \"Estados Unidos\", \"Estados Unidos\", \"Estados Unidos\", \"Reino Unido\", \"Estados Unidos\", \"Australia\", \"Estados Unidos\", \"Estados Unidos\", \"Estados Unidos\", \"Estados Unidos\", \"Estados Unidos\", \"Estados Unidos\", \"Reino Unido\", \"Reino Unido\", \"Estados Unidos\", \"Estados Unidos\", \"Estados Unidos\", \"Estados Unidos\", \"Estados Unidos\", \"Estados Unidos\", \"Reino Unido\", \"Reino Unido\", \"Estados Unidos\", \"Estados Unidos\", \"Estados Unidos\", \"Nueva Zelanda\", \"Estados Unidos\", \"Estados Unidos\", \"Estados Unidos\", \"Estados Unidos\", \"Estados Unidos\", \"Estados Unidos\", \"Reino Unido\", \"Estados Unidos\", \"Reino Unido\", \"Francia\", \"Reino Unido\", \"Estados Unidos\", \"Estados Unidos\", \"Estados Unidos\", \"Reino Unido\", \"Reino Unido\", \"Estados Unidos\", \"Estados Unidos\", \"Estados Unidos\", \"Estados Unidos\", \"Estados Unidos\", \"Reino Unido\", \"Irlanda\", \"Irlanda\", \"Estados Unidos\"]\n",
    "}\n",
    "\n",
    "# Comprobamos que todas las listas tenga la misma longitud y en caso de que no, agregamos NaN.( por los valores que nos faltan)\n",
    "max_length = max(len(data['Nombre']), len(data['Año Ceremonia']), len(data['Edad']), len(data['Raza']), len(data['Pais']))\n",
    "\n",
    "for key in data:\n",
    "    while len(data[key]) < max_length:\n",
    "        data[key].append(np.nan)\n",
    "\n",
    "# Convertimos el diccionario en un dataframe nuevo, más especifico para tenrlo listo para hacer el merg.\n",
    "df_caracteristicas_de_los_actores  = pd.DataFrame(data)\n",
    "\n"
   ]
  },
  {
   "cell_type": "code",
   "execution_count": 3,
   "metadata": {},
   "outputs": [
    {
     "name": "stdout",
     "output_type": "stream",
     "text": [
      "    Año Ceremonia            Nombre Edad    Raza            Pais\n",
      "0            1928     Emil Jannings   45  Blanca        Alemania\n",
      "1            1929     Warner Baxter   40  Blanca  Estados Unidos\n",
      "2            1930  Lionel Barrymore   53  Blanca  Estados Unidos\n",
      "3            1931     Wallace Beery   51  Blanca  Estados Unidos\n",
      "4            1932     Fredric March   37  Blanca  Estados Unidos\n",
      "..            ...               ...  ...     ...             ...\n",
      "92           2019   Anthony Hopkins   62  Blanca             NaN\n",
      "93           2020        Will Smith   45  Blanca             NaN\n",
      "94           2021    Brendan Fraser   41     NaN             NaN\n",
      "95           2022     Colin Farrell   46     NaN             NaN\n",
      "96           2023    Cillian Murphy   37     NaN             NaN\n",
      "\n",
      "[97 rows x 5 columns]\n"
     ]
    }
   ],
   "source": [
    "print (df_caracteristicas_de_los_actores)"
   ]
  },
  {
   "cell_type": "code",
   "execution_count": 40,
   "metadata": {},
   "outputs": [],
   "source": [
    "#Empezaremos por tanto el proceso de limpieza en este nuevo df"
   ]
  },
  {
   "cell_type": "code",
   "execution_count": 41,
   "metadata": {},
   "outputs": [],
   "source": [
    "#Como vemos, hay algunos valores erróneos, por lo que haremos cambios en las filas que tiene datos vacío o que están incorrectos."
   ]
  },
  {
   "cell_type": "code",
   "execution_count": 4,
   "metadata": {},
   "outputs": [
    {
     "data": {
      "text/html": [
       "<div>\n",
       "<style scoped>\n",
       "    .dataframe tbody tr th:only-of-type {\n",
       "        vertical-align: middle;\n",
       "    }\n",
       "\n",
       "    .dataframe tbody tr th {\n",
       "        vertical-align: top;\n",
       "    }\n",
       "\n",
       "    .dataframe thead th {\n",
       "        text-align: right;\n",
       "    }\n",
       "</style>\n",
       "<table border=\"1\" class=\"dataframe\">\n",
       "  <thead>\n",
       "    <tr style=\"text-align: right;\">\n",
       "      <th></th>\n",
       "      <th>Año Ceremonia</th>\n",
       "      <th>Nombre</th>\n",
       "      <th>Edad</th>\n",
       "      <th>Raza</th>\n",
       "      <th>Pais</th>\n",
       "    </tr>\n",
       "  </thead>\n",
       "  <tbody>\n",
       "    <tr>\n",
       "      <th>0</th>\n",
       "      <td>1928</td>\n",
       "      <td>Emil Jannings</td>\n",
       "      <td>45</td>\n",
       "      <td>Blanca</td>\n",
       "      <td>Alemania</td>\n",
       "    </tr>\n",
       "    <tr>\n",
       "      <th>1</th>\n",
       "      <td>1929</td>\n",
       "      <td>Warner Baxter</td>\n",
       "      <td>40</td>\n",
       "      <td>Blanca</td>\n",
       "      <td>Estados Unidos</td>\n",
       "    </tr>\n",
       "    <tr>\n",
       "      <th>2</th>\n",
       "      <td>1930</td>\n",
       "      <td>Lionel Barrymore</td>\n",
       "      <td>53</td>\n",
       "      <td>Blanca</td>\n",
       "      <td>Estados Unidos</td>\n",
       "    </tr>\n",
       "    <tr>\n",
       "      <th>3</th>\n",
       "      <td>1931</td>\n",
       "      <td>Wallace Beery</td>\n",
       "      <td>51</td>\n",
       "      <td>Blanca</td>\n",
       "      <td>Estados Unidos</td>\n",
       "    </tr>\n",
       "    <tr>\n",
       "      <th>4</th>\n",
       "      <td>1932</td>\n",
       "      <td>Fredric March</td>\n",
       "      <td>37</td>\n",
       "      <td>Blanca</td>\n",
       "      <td>Estados Unidos</td>\n",
       "    </tr>\n",
       "    <tr>\n",
       "      <th>...</th>\n",
       "      <td>...</td>\n",
       "      <td>...</td>\n",
       "      <td>...</td>\n",
       "      <td>...</td>\n",
       "      <td>...</td>\n",
       "    </tr>\n",
       "    <tr>\n",
       "      <th>92</th>\n",
       "      <td>2019</td>\n",
       "      <td>Anthony Hopkins</td>\n",
       "      <td>62</td>\n",
       "      <td>Blanca</td>\n",
       "      <td>NaN</td>\n",
       "    </tr>\n",
       "    <tr>\n",
       "      <th>93</th>\n",
       "      <td>2020</td>\n",
       "      <td>Will Smith</td>\n",
       "      <td>45</td>\n",
       "      <td>Blanca</td>\n",
       "      <td>NaN</td>\n",
       "    </tr>\n",
       "    <tr>\n",
       "      <th>94</th>\n",
       "      <td>2021</td>\n",
       "      <td>Brendan Fraser</td>\n",
       "      <td>41</td>\n",
       "      <td>NaN</td>\n",
       "      <td>NaN</td>\n",
       "    </tr>\n",
       "    <tr>\n",
       "      <th>95</th>\n",
       "      <td>2022</td>\n",
       "      <td>Colin Farrell</td>\n",
       "      <td>46</td>\n",
       "      <td>NaN</td>\n",
       "      <td>NaN</td>\n",
       "    </tr>\n",
       "    <tr>\n",
       "      <th>96</th>\n",
       "      <td>2023</td>\n",
       "      <td>Cillian Murphy</td>\n",
       "      <td>37</td>\n",
       "      <td>NaN</td>\n",
       "      <td>NaN</td>\n",
       "    </tr>\n",
       "  </tbody>\n",
       "</table>\n",
       "<p>97 rows × 5 columns</p>\n",
       "</div>"
      ],
      "text/plain": [
       "    Año Ceremonia            Nombre Edad    Raza            Pais\n",
       "0            1928     Emil Jannings   45  Blanca        Alemania\n",
       "1            1929     Warner Baxter   40  Blanca  Estados Unidos\n",
       "2            1930  Lionel Barrymore   53  Blanca  Estados Unidos\n",
       "3            1931     Wallace Beery   51  Blanca  Estados Unidos\n",
       "4            1932     Fredric March   37  Blanca  Estados Unidos\n",
       "..            ...               ...  ...     ...             ...\n",
       "92           2019   Anthony Hopkins   62  Blanca             NaN\n",
       "93           2020        Will Smith   45  Blanca             NaN\n",
       "94           2021    Brendan Fraser   41     NaN             NaN\n",
       "95           2022     Colin Farrell   46     NaN             NaN\n",
       "96           2023    Cillian Murphy   37     NaN             NaN\n",
       "\n",
       "[97 rows x 5 columns]"
      ]
     },
     "execution_count": 4,
     "metadata": {},
     "output_type": "execute_result"
    }
   ],
   "source": [
    "df_caracteristicas_de_los_actores"
   ]
  },
  {
   "cell_type": "code",
   "execution_count": 5,
   "metadata": {},
   "outputs": [],
   "source": [
    "df_caracteristicas_de_los_actores.loc[93, 'Raza'] = \"Afroamericano\"\n",
    "df_caracteristicas_de_los_actores.loc[94, 'Raza'] = \"Blanca\"\n",
    "df_caracteristicas_de_los_actores.loc[95, 'Raza'] = \"Blanca\"\n",
    "df_caracteristicas_de_los_actores.loc[96, 'Raza'] = \"Blanca\""
   ]
  },
  {
   "cell_type": "code",
   "execution_count": 28,
   "metadata": {},
   "outputs": [],
   "source": [
    "#Los valores faltantes en raza, están terminados y corregidos.\n",
    "#Ahora terminaremos las nacionalidades"
   ]
  },
  {
   "cell_type": "code",
   "execution_count": 6,
   "metadata": {},
   "outputs": [],
   "source": [
    "df_caracteristicas_de_los_actores.loc[92, 'Pais'] = \"Estados Unidos\"\n",
    "df_caracteristicas_de_los_actores.loc[93, 'Pais'] = \"Estados Unidos\"\n",
    "df_caracteristicas_de_los_actores.loc[94, 'Pais'] = \"Estados Unidos\"\n",
    "df_caracteristicas_de_los_actores.loc[95, 'Pais'] = \"Irlanda\"\n",
    "df_caracteristicas_de_los_actores.loc[96, 'Pais'] = \"Irlanda\""
   ]
  },
  {
   "cell_type": "code",
   "execution_count": null,
   "metadata": {},
   "outputs": [],
   "source": [
    "#Valoremos los cambios"
   ]
  },
  {
   "cell_type": "code",
   "execution_count": 7,
   "metadata": {},
   "outputs": [
    {
     "data": {
      "text/html": [
       "<div>\n",
       "<style scoped>\n",
       "    .dataframe tbody tr th:only-of-type {\n",
       "        vertical-align: middle;\n",
       "    }\n",
       "\n",
       "    .dataframe tbody tr th {\n",
       "        vertical-align: top;\n",
       "    }\n",
       "\n",
       "    .dataframe thead th {\n",
       "        text-align: right;\n",
       "    }\n",
       "</style>\n",
       "<table border=\"1\" class=\"dataframe\">\n",
       "  <thead>\n",
       "    <tr style=\"text-align: right;\">\n",
       "      <th></th>\n",
       "      <th>Año Ceremonia</th>\n",
       "      <th>Nombre</th>\n",
       "      <th>Edad</th>\n",
       "      <th>Raza</th>\n",
       "      <th>Pais</th>\n",
       "    </tr>\n",
       "  </thead>\n",
       "  <tbody>\n",
       "    <tr>\n",
       "      <th>0</th>\n",
       "      <td>1928</td>\n",
       "      <td>Emil Jannings</td>\n",
       "      <td>45</td>\n",
       "      <td>Blanca</td>\n",
       "      <td>Alemania</td>\n",
       "    </tr>\n",
       "    <tr>\n",
       "      <th>1</th>\n",
       "      <td>1929</td>\n",
       "      <td>Warner Baxter</td>\n",
       "      <td>40</td>\n",
       "      <td>Blanca</td>\n",
       "      <td>Estados Unidos</td>\n",
       "    </tr>\n",
       "    <tr>\n",
       "      <th>2</th>\n",
       "      <td>1930</td>\n",
       "      <td>Lionel Barrymore</td>\n",
       "      <td>53</td>\n",
       "      <td>Blanca</td>\n",
       "      <td>Estados Unidos</td>\n",
       "    </tr>\n",
       "    <tr>\n",
       "      <th>3</th>\n",
       "      <td>1931</td>\n",
       "      <td>Wallace Beery</td>\n",
       "      <td>51</td>\n",
       "      <td>Blanca</td>\n",
       "      <td>Estados Unidos</td>\n",
       "    </tr>\n",
       "    <tr>\n",
       "      <th>4</th>\n",
       "      <td>1932</td>\n",
       "      <td>Fredric March</td>\n",
       "      <td>37</td>\n",
       "      <td>Blanca</td>\n",
       "      <td>Estados Unidos</td>\n",
       "    </tr>\n",
       "    <tr>\n",
       "      <th>...</th>\n",
       "      <td>...</td>\n",
       "      <td>...</td>\n",
       "      <td>...</td>\n",
       "      <td>...</td>\n",
       "      <td>...</td>\n",
       "    </tr>\n",
       "    <tr>\n",
       "      <th>92</th>\n",
       "      <td>2019</td>\n",
       "      <td>Anthony Hopkins</td>\n",
       "      <td>62</td>\n",
       "      <td>Blanca</td>\n",
       "      <td>Estados Unidos</td>\n",
       "    </tr>\n",
       "    <tr>\n",
       "      <th>93</th>\n",
       "      <td>2020</td>\n",
       "      <td>Will Smith</td>\n",
       "      <td>45</td>\n",
       "      <td>Afroamericano</td>\n",
       "      <td>Estados Unidos</td>\n",
       "    </tr>\n",
       "    <tr>\n",
       "      <th>94</th>\n",
       "      <td>2021</td>\n",
       "      <td>Brendan Fraser</td>\n",
       "      <td>41</td>\n",
       "      <td>Blanca</td>\n",
       "      <td>Estados Unidos</td>\n",
       "    </tr>\n",
       "    <tr>\n",
       "      <th>95</th>\n",
       "      <td>2022</td>\n",
       "      <td>Colin Farrell</td>\n",
       "      <td>46</td>\n",
       "      <td>Blanca</td>\n",
       "      <td>Irlanda</td>\n",
       "    </tr>\n",
       "    <tr>\n",
       "      <th>96</th>\n",
       "      <td>2023</td>\n",
       "      <td>Cillian Murphy</td>\n",
       "      <td>37</td>\n",
       "      <td>Blanca</td>\n",
       "      <td>Irlanda</td>\n",
       "    </tr>\n",
       "  </tbody>\n",
       "</table>\n",
       "<p>97 rows × 5 columns</p>\n",
       "</div>"
      ],
      "text/plain": [
       "    Año Ceremonia            Nombre Edad           Raza            Pais\n",
       "0            1928     Emil Jannings   45         Blanca        Alemania\n",
       "1            1929     Warner Baxter   40         Blanca  Estados Unidos\n",
       "2            1930  Lionel Barrymore   53         Blanca  Estados Unidos\n",
       "3            1931     Wallace Beery   51         Blanca  Estados Unidos\n",
       "4            1932     Fredric March   37         Blanca  Estados Unidos\n",
       "..            ...               ...  ...            ...             ...\n",
       "92           2019   Anthony Hopkins   62         Blanca  Estados Unidos\n",
       "93           2020        Will Smith   45  Afroamericano  Estados Unidos\n",
       "94           2021    Brendan Fraser   41         Blanca  Estados Unidos\n",
       "95           2022     Colin Farrell   46         Blanca         Irlanda\n",
       "96           2023    Cillian Murphy   37         Blanca         Irlanda\n",
       "\n",
       "[97 rows x 5 columns]"
      ]
     },
     "execution_count": 7,
     "metadata": {},
     "output_type": "execute_result"
    }
   ],
   "source": [
    "df_caracteristicas_de_los_actores"
   ]
  },
  {
   "cell_type": "code",
   "execution_count": 8,
   "metadata": {},
   "outputs": [],
   "source": [
    "df_caracteristicas_de_los_actores.describe(include='object').T\n",
    "\n",
    "# exportamos el df a un csv para poder trabajar con el en el siguiente paso\n",
    "df_caracteristicas_de_los_actores.to_csv('data/processed/df_caracteristicas_de_los_actores.csv', index=False)\n"
   ]
  },
  {
   "cell_type": "code",
   "execution_count": null,
   "metadata": {},
   "outputs": [],
   "source": [
    "#Principales conclusiones\n",
    "# 1) El actor más premiado es Daniel Day-Lewis.\n",
    "# 2) La raza o etnia con más premios es la Blanca.\n",
    "# 3) El país con mayor número de ganadores es Estados unidos.\n",
    "# 4) La media de edad se situa en los 41 años."
   ]
  }
 ],
 "metadata": {
  "kernelspec": {
   "display_name": "base",
   "language": "python",
   "name": "python3"
  },
  "language_info": {
   "codemirror_mode": {
    "name": "ipython",
    "version": 3
   },
   "file_extension": ".py",
   "mimetype": "text/x-python",
   "name": "python",
   "nbconvert_exporter": "python",
   "pygments_lexer": "ipython3",
   "version": "3.12.7"
  }
 },
 "nbformat": 4,
 "nbformat_minor": 2
}
