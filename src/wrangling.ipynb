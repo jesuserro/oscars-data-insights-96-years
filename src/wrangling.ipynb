{
 "cells": [
  {
   "cell_type": "code",
   "execution_count": 1,
   "metadata": {},
   "outputs": [],
   "source": [
    "import pandas as pd\n",
    "import numpy as np"
   ]
  },
  {
   "cell_type": "code",
   "execution_count": 2,
   "metadata": {},
   "outputs": [],
   "source": [
    "oscars_main = pd.read_csv('data/processed/oscars_main.csv')\n",
    "df_caracteristicas_actores = pd.read_csv('data/processed/df_caracteristicas_de_los_actores.csv')"
   ]
  },
  {
   "cell_type": "code",
   "execution_count": 3,
   "metadata": {},
   "outputs": [],
   "source": [
    "df_caracteristicas_actores.rename(columns = {'Nombre': 'name'}, inplace=True)\n",
    "df_caracteristicas_actores.rename(columns = {'Pais': 'nacionalidad'}, inplace=True)\n",
    "\n",
    "\n",
    "df_caracteristicas_actores.drop(columns = ['Año Ceremonia'], inplace=True)\n",
    "\n",
    "df_caracteristicas_actores.columns = df_caracteristicas_actores.columns.str.lower().str.replace(' ', '_').str.strip()\n"
   ]
  },
  {
   "cell_type": "code",
   "execution_count": 4,
   "metadata": {},
   "outputs": [
    {
     "data": {
      "text/html": [
       "<div>\n",
       "<style scoped>\n",
       "    .dataframe tbody tr th:only-of-type {\n",
       "        vertical-align: middle;\n",
       "    }\n",
       "\n",
       "    .dataframe tbody tr th {\n",
       "        vertical-align: top;\n",
       "    }\n",
       "\n",
       "    .dataframe thead th {\n",
       "        text-align: right;\n",
       "    }\n",
       "</style>\n",
       "<table border=\"1\" class=\"dataframe\">\n",
       "  <thead>\n",
       "    <tr style=\"text-align: right;\">\n",
       "      <th></th>\n",
       "      <th>name</th>\n",
       "      <th>edad</th>\n",
       "      <th>raza</th>\n",
       "      <th>nacionalidad</th>\n",
       "      <th>winner</th>\n",
       "      <th>film</th>\n",
       "      <th>year_ceremony</th>\n",
       "    </tr>\n",
       "  </thead>\n",
       "  <tbody>\n",
       "    <tr>\n",
       "      <th>0</th>\n",
       "      <td>Richard Barthelmess</td>\n",
       "      <td>NaN</td>\n",
       "      <td>NaN</td>\n",
       "      <td>NaN</td>\n",
       "      <td>False</td>\n",
       "      <td>The Noose</td>\n",
       "      <td>1928</td>\n",
       "    </tr>\n",
       "    <tr>\n",
       "      <th>1</th>\n",
       "      <td>Emil Jannings</td>\n",
       "      <td>45.0</td>\n",
       "      <td>Blanca</td>\n",
       "      <td>Alemania</td>\n",
       "      <td>True</td>\n",
       "      <td>The Last Command</td>\n",
       "      <td>1928</td>\n",
       "    </tr>\n",
       "    <tr>\n",
       "      <th>2</th>\n",
       "      <td>George Bancroft</td>\n",
       "      <td>NaN</td>\n",
       "      <td>NaN</td>\n",
       "      <td>NaN</td>\n",
       "      <td>False</td>\n",
       "      <td>Thunderbolt</td>\n",
       "      <td>1929</td>\n",
       "    </tr>\n",
       "    <tr>\n",
       "      <th>3</th>\n",
       "      <td>Warner Baxter</td>\n",
       "      <td>40.0</td>\n",
       "      <td>Blanca</td>\n",
       "      <td>Estados Unidos</td>\n",
       "      <td>True</td>\n",
       "      <td>In Old Arizona</td>\n",
       "      <td>1929</td>\n",
       "    </tr>\n",
       "    <tr>\n",
       "      <th>4</th>\n",
       "      <td>Chester Morris</td>\n",
       "      <td>NaN</td>\n",
       "      <td>NaN</td>\n",
       "      <td>NaN</td>\n",
       "      <td>False</td>\n",
       "      <td>Alibi</td>\n",
       "      <td>1929</td>\n",
       "    </tr>\n",
       "  </tbody>\n",
       "</table>\n",
       "</div>"
      ],
      "text/plain": [
       "                  name  edad    raza    nacionalidad  winner  \\\n",
       "0  Richard Barthelmess   NaN     NaN             NaN   False   \n",
       "1        Emil Jannings  45.0  Blanca        Alemania    True   \n",
       "2      George Bancroft   NaN     NaN             NaN   False   \n",
       "3        Warner Baxter  40.0  Blanca  Estados Unidos    True   \n",
       "4       Chester Morris   NaN     NaN             NaN   False   \n",
       "\n",
       "               film  year_ceremony  \n",
       "0         The Noose           1928  \n",
       "1  The Last Command           1928  \n",
       "2       Thunderbolt           1929  \n",
       "3    In Old Arizona           1929  \n",
       "4             Alibi           1929  "
      ]
     },
     "execution_count": 4,
     "metadata": {},
     "output_type": "execute_result"
    }
   ],
   "source": [
    "#df_caracteristicas_actores.head()\n",
    "oscars_main.drop(columns = ['ceremony'], inplace=True)\n",
    "\n",
    "df_final = pd.merge(oscars_main, df_caracteristicas_actores, on='name', how='left')\n",
    "\n",
    "# reorder columns in this order: name, edad, raza, nacionalidad, winner, film, year_ceremony\n",
    "df_final = df_final[['name', 'edad', 'raza', 'nacionalidad', 'winner', 'film', 'year_ceremony']]\n",
    "\n",
    "df_final.to_csv('data/processed/tabla_actores.csv', index=False)\n",
    "\n",
    "df_final.head()"
   ]
  }
 ],
 "metadata": {
  "kernelspec": {
   "display_name": "base",
   "language": "python",
   "name": "python3"
  },
  "language_info": {
   "codemirror_mode": {
    "name": "ipython",
    "version": 3
   },
   "file_extension": ".py",
   "mimetype": "text/x-python",
   "name": "python",
   "nbconvert_exporter": "python",
   "pygments_lexer": "ipython3",
   "version": "3.12.7"
  }
 },
 "nbformat": 4,
 "nbformat_minor": 2
}
