{
 "cells": [
  {
   "cell_type": "code",
   "execution_count": 6,
   "metadata": {},
   "outputs": [
    {
     "name": "stdout",
     "output_type": "stream",
     "text": [
      "Requirement already satisfied: odfpy in c:\\users\\jesus\\anaconda3\\lib\\site-packages (1.4.1)\n",
      "Requirement already satisfied: defusedxml in c:\\users\\jesus\\anaconda3\\lib\\site-packages (from odfpy) (0.7.1)\n",
      "Note: you may need to restart the kernel to use updated packages.\n"
     ]
    }
   ],
   "source": [
    "%pip install odfpy\n",
    "\n",
    "\n",
    "import pandas as pd\n",
    "import numpy as np\n",
    "import matplotlib.pyplot as plt\n",
    "import seaborn as sns\n",
    "\n",
    "# Load the data\n",
    "df_base = pd.read_csv('data/processed/oscars3_df2.csv')\n",
    "\n",
    "#df_base.head()\n",
    "\n",
    "df_cris = pd.read_csv('data/processed/df_caracteristicas_de_los_actores.csv')\n",
    "\n",
    "# Change the name of the column 'Pais' to 'Nacionalidad'\n",
    "df_cris.rename(columns={'Pais':'Nacionalidad'}, inplace=True)\n",
    "df_cris.rename(columns={'Nombre':'name'}, inplace=True)\n",
    "\n",
    "\n",
    "# Merge the two dataframes\n",
    "#df_final = pd.merge(df_base, df_cris, on='name', how='outer')\n",
    "\n",
    "# Merge the two dataframes using function \"join\" to complete columns \"Edad\", \"Raza\" and \"Nacionalidad\"\n",
    "#df_final = df_base.join(df_cris.set_index('name'), on='name', lsuffix='_base', rsuffix='_cris')\n",
    "\n",
    "# Drop the duplicate columns from df_base\n",
    "#df_final.drop(['Edad_base', 'Raza_base', 'Nacionalidad_base'], axis=1, inplace=True)\n",
    "\n",
    "# Save the final dataframe to csv\n",
    "df_excel = pd.read_excel('data/actor_año_presupuesto_taquilla.ods', engine='odf')\n",
    "df_excel.rename(columns={'Actor':'name'}, inplace=True)\n",
    "df_excel.rename(columns={'Presupuesto (USD)':'Presupuesto'}, inplace=True)\n",
    "df_excel.rename(columns={'Recaudación en Taquilla (USD)':'Taquilla'}, inplace=True)\n",
    "df_excel.rename(columns={'Año':'year_ceremony'}, inplace=True)\n",
    "\n",
    "# Guardar el dataframe en un archivo csv\n",
    "df_excel.to_csv('data/processed/actor_año_presupuesto_taquilla.csv', index=False)\n",
    "\n",
    "\n",
    "\n"
   ]
  }
 ],
 "metadata": {
  "kernelspec": {
   "display_name": "base",
   "language": "python",
   "name": "python3"
  },
  "language_info": {
   "codemirror_mode": {
    "name": "ipython",
    "version": 3
   },
   "file_extension": ".py",
   "mimetype": "text/x-python",
   "name": "python",
   "nbconvert_exporter": "python",
   "pygments_lexer": "ipython3",
   "version": "3.12.7"
  }
 },
 "nbformat": 4,
 "nbformat_minor": 2
}
