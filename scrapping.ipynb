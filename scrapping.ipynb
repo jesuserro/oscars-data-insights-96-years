{
 "cells": [
  {
   "cell_type": "code",
   "execution_count": null,
   "metadata": {},
   "outputs": [
    {
     "ename": "HTTPError",
     "evalue": "403 Client Error: Forbidden for url: https://www.imdb.com/list/ls009072108/?sort=popularity%2Casc",
     "output_type": "error",
     "traceback": [
      "\u001b[1;31m---------------------------------------------------------------------------\u001b[0m",
      "\u001b[1;31mHTTPError\u001b[0m                                 Traceback (most recent call last)",
      "Cell \u001b[1;32mIn[2], line 72\u001b[0m\n\u001b[0;32m     70\u001b[0m \u001b[38;5;66;03m# Ejemplo de uso\u001b[39;00m\n\u001b[0;32m     71\u001b[0m \u001b[38;5;28;01mif\u001b[39;00m \u001b[38;5;18m__name__\u001b[39m \u001b[38;5;241m==\u001b[39m \u001b[38;5;124m\"\u001b[39m\u001b[38;5;124m__main__\u001b[39m\u001b[38;5;124m\"\u001b[39m:\n\u001b[1;32m---> 72\u001b[0m     result_df \u001b[38;5;241m=\u001b[39m scrape_imdb_movies()\n\u001b[0;32m     73\u001b[0m     \u001b[38;5;28mprint\u001b[39m(result_df\u001b[38;5;241m.\u001b[39mhead())\n\u001b[0;32m     75\u001b[0m     \u001b[38;5;66;03m# Guardar en CSV si se desea\u001b[39;00m\n",
      "Cell \u001b[1;32mIn[2], line 8\u001b[0m, in \u001b[0;36mscrape_imdb_movies\u001b[1;34m(url)\u001b[0m\n\u001b[0;32m      5\u001b[0m \u001b[38;5;28;01mdef\u001b[39;00m \u001b[38;5;21mscrape_imdb_movies\u001b[39m(url\u001b[38;5;241m=\u001b[39m\u001b[38;5;124m\"\u001b[39m\u001b[38;5;124mhttps://www.imdb.com/list/ls009072108/?sort=popularity\u001b[39m\u001b[38;5;124m%\u001b[39m\u001b[38;5;124m2Casc\u001b[39m\u001b[38;5;124m\"\u001b[39m):\n\u001b[0;32m      6\u001b[0m     \u001b[38;5;66;03m# Hacemos la petición a la página\u001b[39;00m\n\u001b[0;32m      7\u001b[0m     response \u001b[38;5;241m=\u001b[39m requests\u001b[38;5;241m.\u001b[39mget(url)\n\u001b[1;32m----> 8\u001b[0m     response\u001b[38;5;241m.\u001b[39mraise_for_status()  \u001b[38;5;66;03m# Lanza excepción si falla\u001b[39;00m\n\u001b[0;32m     10\u001b[0m     soup \u001b[38;5;241m=\u001b[39m BeautifulSoup(response\u001b[38;5;241m.\u001b[39mtext, \u001b[38;5;124m'\u001b[39m\u001b[38;5;124mhtml.parser\u001b[39m\u001b[38;5;124m'\u001b[39m)\n\u001b[0;32m     12\u001b[0m     \u001b[38;5;66;03m# Seleccionamos todos los <li> donde vienen las películas\u001b[39;00m\n",
      "File \u001b[1;32mc:\\Users\\jesus\\anaconda3\\Lib\\site-packages\\requests\\models.py:1024\u001b[0m, in \u001b[0;36mResponse.raise_for_status\u001b[1;34m(self)\u001b[0m\n\u001b[0;32m   1019\u001b[0m     http_error_msg \u001b[38;5;241m=\u001b[39m (\n\u001b[0;32m   1020\u001b[0m         \u001b[38;5;124mf\u001b[39m\u001b[38;5;124m\"\u001b[39m\u001b[38;5;132;01m{\u001b[39;00m\u001b[38;5;28mself\u001b[39m\u001b[38;5;241m.\u001b[39mstatus_code\u001b[38;5;132;01m}\u001b[39;00m\u001b[38;5;124m Server Error: \u001b[39m\u001b[38;5;132;01m{\u001b[39;00mreason\u001b[38;5;132;01m}\u001b[39;00m\u001b[38;5;124m for url: \u001b[39m\u001b[38;5;132;01m{\u001b[39;00m\u001b[38;5;28mself\u001b[39m\u001b[38;5;241m.\u001b[39murl\u001b[38;5;132;01m}\u001b[39;00m\u001b[38;5;124m\"\u001b[39m\n\u001b[0;32m   1021\u001b[0m     )\n\u001b[0;32m   1023\u001b[0m \u001b[38;5;28;01mif\u001b[39;00m http_error_msg:\n\u001b[1;32m-> 1024\u001b[0m     \u001b[38;5;28;01mraise\u001b[39;00m HTTPError(http_error_msg, response\u001b[38;5;241m=\u001b[39m\u001b[38;5;28mself\u001b[39m)\n",
      "\u001b[1;31mHTTPError\u001b[0m: 403 Client Error: Forbidden for url: https://www.imdb.com/list/ls009072108/?sort=popularity%2Casc"
     ]
    }
   ],
   "source": [
    "import requests\n",
    "from bs4 import BeautifulSoup\n",
    "import pandas as pd\n",
    "\n",
    "def scrape_imdb_movies(url=\"https://www.imdb.com/list/ls009072108/?sort=popularity%2Casc\"):\n",
    "    # Cabeceras para simular un navegador\n",
    "    headers = {\n",
    "        \"User-Agent\": (\n",
    "            \"Mozilla/5.0 (Windows NT 10.0; Win64; x64)\"\n",
    "            \" AppleWebKit/537.36 (KHTML, like Gecko)\"\n",
    "            \" Chrome/112.0.0.0 Safari/537.36\"\n",
    "        )\n",
    "    }\n",
    "    \n",
    "    # Hacemos la petición con las cabeceras\n",
    "    response = requests.get(url, headers=headers)\n",
    "    response.raise_for_status()  # Lanza excepción si falla (4xx, 5xx)\n",
    "\n",
    "    soup = BeautifulSoup(response.text, 'html.parser')\n",
    "    \n",
    "    # Seleccionamos todos los <li> donde vienen las películas\n",
    "    movie_items = soup.select('li.ipc-metadata-list-summary-item')\n",
    "    \n",
    "    movies_data = []\n",
    "\n",
    "    for movie in movie_items:\n",
    "        try:\n",
    "            # Extraemos título\n",
    "            title_tag = movie.select_one('h3.ipc-title__text')\n",
    "            title = title_tag.get_text(strip=True) if title_tag else \"No Title\"\n",
    "\n",
    "            # Año/duración\n",
    "            metadata_spans = movie.select('div.sc-d5ea4b9d-6 span.sc-d5ea4b9d-7')\n",
    "            year = metadata_spans[0].get_text(strip=True) if len(metadata_spans) > 0 else \"\"\n",
    "            duration = metadata_spans[1].get_text(strip=True) if len(metadata_spans) > 1 else \"\"\n",
    "\n",
    "            # Calificación\n",
    "            rating_span = movie.select_one('span.ipc-rating-star--rating')\n",
    "            rating = rating_span.get_text(strip=True) if rating_span else \"\"\n",
    "\n",
    "            # Presupuesto\n",
    "            budget_text = \"\"\n",
    "            budget_div = movie.select_one('div[data-testid=\"title-list-item-description\"]')\n",
    "            if budget_div:\n",
    "                text_all = budget_div.get_text(strip=True)\n",
    "                if \"Budget:\" in text_all:\n",
    "                    budget_text = text_all.replace(\"Budget: \", \"\")\n",
    "\n",
    "            movies_data.append({\n",
    "                'Title': title,\n",
    "                'Year': year,\n",
    "                'Duration': duration,\n",
    "                'Rating': rating,\n",
    "                'Budget': budget_text\n",
    "            })\n",
    "        except Exception as e:\n",
    "            print(f\"Error procesando una película: {e}\")\n",
    "            continue\n",
    "    \n",
    "    df = pd.DataFrame(movies_data)\n",
    "    return df\n",
    "\n",
    "# Ejemplo de uso\n",
    "if __name__ == \"__main__\":\n",
    "    df_imdb = scrape_imdb_movies()\n",
    "    print(df_imdb.head())\n",
    "\n",
    "    # Guardar en CSV si se desea\n",
    "    df_imdb.to_csv('data/movies_budgets.csv', index=False)\n"
   ]
  }
 ],
 "metadata": {
  "kernelspec": {
   "display_name": "base",
   "language": "python",
   "name": "python3"
  },
  "language_info": {
   "codemirror_mode": {
    "name": "ipython",
    "version": 3
   },
   "file_extension": ".py",
   "mimetype": "text/x-python",
   "name": "python",
   "nbconvert_exporter": "python",
   "pygments_lexer": "ipython3",
   "version": "3.12.7"
  }
 },
 "nbformat": 4,
 "nbformat_minor": 2
}
